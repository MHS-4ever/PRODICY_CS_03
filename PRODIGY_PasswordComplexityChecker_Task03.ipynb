{
  "nbformat": 4,
  "nbformat_minor": 0,
  "metadata": {
    "colab": {
      "provenance": []
    },
    "kernelspec": {
      "name": "python3",
      "display_name": "Python 3"
    },
    "language_info": {
      "name": "python"
    }
  },
  "cells": [
    {
      "cell_type": "markdown",
      "source": [
        "#**Password Strength Checker**"
      ],
      "metadata": {
        "id": "BvHLsUpQJeUg"
      }
    },
    {
      "cell_type": "markdown",
      "source": [
        "##Import Necessary Libraries"
      ],
      "metadata": {
        "id": "xU9cm6aXJkyI"
      }
    },
    {
      "cell_type": "code",
      "source": [
        "import re\n",
        "import tkinter as tk\n",
        "from tkinter import messagebox\n",
        "from typing import Tuple, List"
      ],
      "metadata": {
        "id": "6wQX-pR7JgP3"
      },
      "execution_count": 1,
      "outputs": []
    },
    {
      "cell_type": "markdown",
      "source": [
        "This cell imports the required libraries:\n",
        "*   **re:** bold text for regular expressions to validate the password's characters.\n",
        "*   **tkinter:** for creating the GUI.\n",
        "*   **typing:** for defining type hints."
      ],
      "metadata": {
        "id": "vdXlEiQCJgac"
      }
    },
    {
      "cell_type": "markdown",
      "source": [
        "##Password Strength Checker Class"
      ],
      "metadata": {
        "id": "y5BzXgR6JhJM"
      }
    },
    {
      "cell_type": "code",
      "source": [
        "class PasswordStrengthChecker:\n",
        "    def __init__(self, min_length=8):\n",
        "        self.min_length = min_length\n",
        "\n",
        "    def assess_password_strength(self, password: str) -> Tuple[str, List[str]]:\n",
        "        if not isinstance(password, str):\n",
        "            raise ValueError(\"Password must be a string.\")\n",
        "\n",
        "        # Initialize score and feedback list\n",
        "        score = 0\n",
        "        feedback = []\n",
        "\n",
        "        # Check for length\n",
        "        if len(password) >= self.min_length:\n",
        "            score += 1\n",
        "        else:\n",
        "            feedback.append(f\"Password should be at least {self.min_length} characters long.\")\n",
        "\n",
        "        # Check for uppercase letters\n",
        "        if re.search(r'[A-Z]', password):\n",
        "            score += 1\n",
        "        else:\n",
        "            feedback.append(\"Password should contain at least one uppercase letter.\")\n",
        "\n",
        "        # Check for lowercase letters\n",
        "        if re.search(r'[a-z]', password):\n",
        "            score += 1\n",
        "        else:\n",
        "            feedback.append(\"Password should contain at least one lowercase letter.\")\n",
        "\n",
        "        # Check for digits\n",
        "        if re.search(r'\\d', password):\n",
        "            score += 1\n",
        "        else:\n",
        "            feedback.append(\"Password should contain at least one number.\")\n",
        "\n",
        "        # Check for special characters\n",
        "        if re.search(r'[\\W_]', password):\n",
        "            score += 1\n",
        "        else:\n",
        "            feedback.append(\"Password should contain at least one special character.\")\n",
        "\n",
        "        # Determine strength based on score\n",
        "        if score == 5:\n",
        "            return \"Password is strong!\", feedback\n",
        "        elif 3 <= score < 5:\n",
        "            return \"Password is medium.\", feedback\n",
        "        else:\n",
        "            return \"Password is weak.\", feedback\n"
      ],
      "metadata": {
        "id": "KvqlpTiiJhWn"
      },
      "execution_count": 2,
      "outputs": []
    },
    {
      "cell_type": "markdown",
      "source": [
        "This cell defines the **PasswordStrengthChecker** class:\n",
        "\n",
        "*   The **__init__** method initializes the checker with a minimum password length (default is 8).\n",
        "\n",
        "*   The **assess_password_strength** method checks for various conditions (length, uppercase, lowercase, digits, special characters) and returns a score and feedback on how strong the password is.\n"
      ],
      "metadata": {
        "id": "93DZ91e6JhgM"
      }
    },
    {
      "cell_type": "markdown",
      "source": [
        "##Password Strength Application Class"
      ],
      "metadata": {
        "id": "7OM8vRDYL6kX"
      }
    },
    {
      "cell_type": "code",
      "source": [
        "class PasswordStrengthApp:\n",
        "    def __init__(self, root):\n",
        "        self.root = root\n",
        "        self.root.title(\"Password Strength Checker\")\n",
        "\n",
        "        # Add labels, entry, and button\n",
        "        self.label = tk.Label(root, text=\"Enter your password:\")\n",
        "        self.label.pack(pady=10)\n",
        "\n",
        "        self.password_entry = tk.Entry(root, show=\"*\", width=30)\n",
        "        self.password_entry.pack(pady=10, padx=30)\n",
        "\n",
        "        self.check_button = tk.Button(root, text=\"Check Strength\", command=self.check_password_strength)\n",
        "        self.check_button.pack(pady=10)\n",
        "\n",
        "        self.result_label = tk.Label(root, text=\"\", fg=\"blue\")\n",
        "        self.result_label.pack(pady=10)\n",
        "\n",
        "        self.feedback_label = tk.Label(root, text=\"\", fg=\"red\", justify=\"left\")\n",
        "        self.feedback_label.pack(pady=10)\n",
        "\n",
        "        self.again_button = tk.Button(root, text=\"Check Another Password\", command=self.reset)\n",
        "        self.again_button.pack(pady=10)\n",
        "        self.again_button.config(state=\"disabled\")\n",
        "\n",
        "    def check_password_strength(self):\n",
        "        password = self.password_entry.get()\n",
        "        checker = PasswordStrengthChecker(min_length=8)\n",
        "        strength, feedback = checker.assess_password_strength(password)\n",
        "\n",
        "        # Display strength\n",
        "        self.result_label.config(text=f\"Password Strength: {strength}\")\n",
        "\n",
        "        # Display feedback\n",
        "        if feedback:\n",
        "            feedback_text = \"\\n\".join(f\"- {f}\" for f in feedback)\n",
        "            self.feedback_label.config(text=f\"Feedback:\\n{feedback_text}\")\n",
        "        else:\n",
        "            self.feedback_label.config(text=\"Great job! Your password meets all the criteria.\")\n",
        "\n",
        "        # Enable the check again button\n",
        "        self.again_button.config(state=\"normal\")\n",
        "\n",
        "    def reset(self):\n",
        "        # Reset the form for another check\n",
        "        self.password_entry.delete(0, tk.END)\n",
        "        self.result_label.config(text=\"\")\n",
        "        self.feedback_label.config(text=\"\")\n",
        "        self.again_button.config(state=\"disabled\")\n"
      ],
      "metadata": {
        "id": "4x1XTtGLJh3O"
      },
      "execution_count": 3,
      "outputs": []
    },
    {
      "cell_type": "markdown",
      "source": [
        "This cell defines the **PasswordStrengthApp** class, which handles the Tkinter GUI:\n",
        "*   The **__init__** method sets up the main window with labels, entry fields, and buttons for user interaction.\n",
        "*   The **check_password_strength** method retrieves the user input, checks the password using **PasswordStrengthChecker**, and updates the UI with the result.\n",
        "*   The **reset** method clears the input and resets the interface for a new check."
      ],
      "metadata": {
        "id": "GIOYUAJXJh_X"
      }
    },
    {
      "cell_type": "markdown",
      "source": [
        "##Running the Tkinter Application"
      ],
      "metadata": {
        "id": "0NiMCjilJiMp"
      }
    },
    {
      "cell_type": "code",
      "source": [
        "# Main Tkinter loop to start the application\n",
        "if __name__ == \"__main__\":\n",
        "    root = tk.Tk()\n",
        "    app = PasswordStrengthApp(root)\n",
        "    root.mainloop()\n"
      ],
      "metadata": {
        "id": "cyMG-puMJiUf"
      },
      "execution_count": null,
      "outputs": []
    },
    {
      "cell_type": "markdown",
      "source": [
        "This cell runs the main Tkinter loop to start the application. It initializes the Tkinter window (**root**), creates an instance of the *PasswordStrengthApp* class, and calls **root.mainloop()** to keep the GUI running."
      ],
      "metadata": {
        "id": "ZHjcxtdLJibu"
      }
    },
    {
      "cell_type": "markdown",
      "source": [
        "##Conclusion and Next Steps"
      ],
      "metadata": {
        "id": "cv-Wo34BJiwx"
      }
    },
    {
      "cell_type": "code",
      "source": [
        "# Conclusion: You can now run the notebook to check the strength of different passwords.\n",
        "# Next steps could involve adding support for checking password strength from a list or integrating with other security tools."
      ],
      "metadata": {
        "id": "y2n9nklkJi39"
      },
      "execution_count": null,
      "outputs": []
    },
    {
      "cell_type": "markdown",
      "source": [
        "This cell concludes the notebook, explaining that the password checker is now ready for testing with different passwords. The next steps could involve enhancements like checking password strength for a batch of passwords or integrating it with other security tools."
      ],
      "metadata": {
        "id": "lWjaUvTiNyhN"
      }
    }
  ]
}