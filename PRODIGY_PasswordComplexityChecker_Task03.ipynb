{
  "nbformat": 4,
  "nbformat_minor": 0,
  "metadata": {
    "colab": {
      "provenance": []
    },
    "kernelspec": {
      "name": "python3",
      "display_name": "Python 3"
    },
    "language_info": {
      "name": "python"
    }
  },
  "cells": [
    {
      "cell_type": "markdown",
      "source": [
        "#**Password Strength Checker**"
      ],
      "metadata": {
        "id": "BvHLsUpQJeUg"
      }
    },
    {
      "cell_type": "markdown",
      "source": [
        "##Import Necessary Libraries"
      ],
      "metadata": {
        "id": "xU9cm6aXJkyI"
      }
    },
    {
      "cell_type": "code",
      "source": [
        "import re\n",
        "import getpass\n",
        "from typing import Tuple, List"
      ],
      "metadata": {
        "id": "6wQX-pR7JgP3"
      },
      "execution_count": 6,
      "outputs": []
    },
    {
      "cell_type": "markdown",
      "source": [
        "*   **re:** The regular expressions module is used to perform pattern matching checks on the password.\n",
        "*   **getpass:** Allows secure password input without echoing the characters on the screen.\n",
        "*   **Text:** bold text This cell imports the required modules for regular expressions (re) and the typing annotations for tuples and lists (Tuple, List)."
      ],
      "metadata": {
        "id": "vdXlEiQCJgac"
      }
    },
    {
      "cell_type": "markdown",
      "source": [
        "##PasswordStrengthChecker Class"
      ],
      "metadata": {
        "id": "y5BzXgR6JhJM"
      }
    },
    {
      "cell_type": "code",
      "source": [
        "class PasswordStrengthChecker:\n",
        "    def __init__(self, min_length=8):\n",
        "        self.min_length = min_length\n",
        "\n",
        "    def assess_password_strength(self, password: str) -> Tuple[str, List[str]]:\n",
        "        if not isinstance(password, str):\n",
        "            raise ValueError(\"Password must be a string.\")\n",
        "\n",
        "        # Initialize score and feedback list\n",
        "        score = 0\n",
        "        feedback = []\n",
        "\n",
        "        # Check for length\n",
        "        if len(password) >= self.min_length:\n",
        "            score += 1\n",
        "        else:\n",
        "            feedback.append(f\"Password should be at least {self.min_length} characters long.\")\n",
        "\n",
        "        # Check for uppercase letters\n",
        "        if re.search(r'[A-Z]', password):\n",
        "            score += 1\n",
        "        else:\n",
        "            feedback.append(\"Password should contain at least one uppercase letter.\")\n",
        "\n",
        "        # Check for lowercase letters\n",
        "        if re.search(r'[a-z]', password):\n",
        "            score += 1\n",
        "        else:\n",
        "            feedback.append(\"Password should contain at least one lowercase letter.\")\n",
        "\n",
        "        # Check for digits\n",
        "        if re.search(r'\\d', password):\n",
        "            score += 1\n",
        "        else:\n",
        "            feedback.append(\"Password should contain at least one number.\")\n",
        "\n",
        "        # Check for special characters\n",
        "        if re.search(r'[\\W_]', password):\n",
        "            score += 1\n",
        "        else:\n",
        "            feedback.append(\"Password should contain at least one special character.\")\n",
        "\n",
        "        # Determine strength based on score\n",
        "        if score == 5:\n",
        "            return \"Password is strong!\", feedback\n",
        "        elif 3 <= score < 5:\n",
        "            return \"Password is medium.\", feedback\n",
        "        else:\n",
        "            return \"Password is weak.\", feedback\n"
      ],
      "metadata": {
        "id": "KvqlpTiiJhWn"
      },
      "execution_count": 7,
      "outputs": []
    },
    {
      "cell_type": "markdown",
      "source": [
        "This class checks the password against various criteria and assigns a score.\n",
        "\n",
        "\n",
        "*   min_length: Sets the minimum required length of the password.\n",
        "\n",
        "**Methods**:\n",
        "\n",
        "\n",
        "*   assess_password_strength: Evaluates the password and returns a strength assessment along with feedback."
      ],
      "metadata": {
        "id": "93DZ91e6JhgM"
      }
    },
    {
      "cell_type": "markdown",
      "source": [
        "##Function to Run the Password Checker"
      ],
      "metadata": {
        "id": "7OM8vRDYL6kX"
      }
    },
    {
      "cell_type": "code",
      "source": [
        "def run_password_checker():\n",
        "    try:\n",
        "        while True:\n",
        "            # Use getpass to securely get the password input without echoing it\n",
        "            password = getpass.getpass(\"Enter your password to check its strength: \")\n",
        "            checker = PasswordStrengthChecker(min_length=8)\n",
        "            strength, feedback = checker.assess_password_strength(password)\n",
        "\n",
        "            # Display strength and feedback\n",
        "            print(f\"\\nPassword Strength: {strength}\")\n",
        "            if feedback:\n",
        "                print(\"Feedback:\")\n",
        "                for f in feedback:\n",
        "                    print(f\"- {f}\")\n",
        "            else:\n",
        "                print(\"Great job! Your password meets all the criteria.\")\n",
        "\n",
        "            # Ask if the user wants to check another password\n",
        "            repeat = input(\"\\nWould you like to check another password? (yes/no): \").lower()\n",
        "            if repeat != 'yes':\n",
        "                print(\"Exiting the program.\")\n",
        "                break\n",
        "\n",
        "    except Exception as e:\n",
        "        print(f\"Error: {e}\")\n"
      ],
      "metadata": {
        "id": "4x1XTtGLJh3O"
      },
      "execution_count": 8,
      "outputs": []
    },
    {
      "cell_type": "markdown",
      "source": [
        "*   **run_password_checker**: This function interacts with the user.\n",
        "*   Uses **getpass.getpass()** to securely accept the password input.\n",
        "*   Provides **immediate feedback** on the password strength.\n",
        "*   Uses a loop to allow the user to check multiple passwords if desired."
      ],
      "metadata": {
        "id": "GIOYUAJXJh_X"
      }
    },
    {
      "cell_type": "markdown",
      "source": [
        "##Run the Password Checker"
      ],
      "metadata": {
        "id": "0NiMCjilJiMp"
      }
    },
    {
      "cell_type": "code",
      "source": [
        "run_password_checker()"
      ],
      "metadata": {
        "id": "cyMG-puMJiUf"
      },
      "execution_count": null,
      "outputs": []
    },
    {
      "cell_type": "markdown",
      "source": [
        "*   This cell initiates the password checker by calling the run_password_checker() function.\n",
        "*   **Note**: Make sure to run the previous cells before executing this one"
      ],
      "metadata": {
        "id": "ZHjcxtdLJibu"
      }
    },
    {
      "cell_type": "markdown",
      "source": [
        "##Conclusion and Next Steps"
      ],
      "metadata": {
        "id": "cv-Wo34BJiwx"
      }
    },
    {
      "cell_type": "code",
      "source": [
        "# Conclusion: You can now run the notebook to check the strength of different passwords.\n",
        "# Next steps could involve adding support for checking password strength from a list or integrating with other security tools."
      ],
      "metadata": {
        "id": "y2n9nklkJi39"
      },
      "execution_count": null,
      "outputs": []
    },
    {
      "cell_type": "markdown",
      "source": [
        "This cell concludes the notebook, explaining that the password checker is now ready for testing with different passwords. The next steps could involve enhancements like checking password strength for a batch of passwords or integrating it with other security tools."
      ],
      "metadata": {
        "id": "lWjaUvTiNyhN"
      }
    }
  ]
}